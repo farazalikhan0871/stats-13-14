{
 "cells": [
  {
   "cell_type": "markdown",
   "id": "95789198-6ac6-4fa2-bf35-d697f291c264",
   "metadata": {},
   "source": [
    "Q1. Write a Python function that takes in two arrays of data and calculates the F-value for a variance ratio\n",
    "test. The function should return the F-value and the corresponding p-value for the test."
   ]
  },
  {
   "cell_type": "code",
   "execution_count": 1,
   "id": "42ecb796-344c-4996-a565-d47006468856",
   "metadata": {},
   "outputs": [],
   "source": [
    "import numpy as np\n",
    "from scipy.stats import f\n",
    "\n",
    "def variance_ratio_test(data1, data2):\n",
    "    # Calculate the sample means\n",
    "    mean1 = np.mean(data1)\n",
    "    mean2 = np.mean(data2)\n",
    "    \n",
    "    # Calculate the sample variances\n",
    "    var1 = np.var(data1, ddof=1)\n",
    "    var2 = np.var(data2, ddof=1)\n",
    "    \n",
    "    # Calculate the F-value\n",
    "    f_value = var1 / var2\n",
    "    \n",
    "    # Calculate the degrees of freedom\n",
    "    df1 = len(data1) - 1\n",
    "    df2 = len(data2) - 1\n",
    "    \n",
    "    # Calculate the p-value\n",
    "    p_value = 1 - f.cdf(f_value, df1, df2)\n",
    "    \n",
    "    return f_value, p_value\n"
   ]
  },
  {
   "cell_type": "code",
   "execution_count": 3,
   "id": "0a04d16e-9027-481f-a542-ce3cc441e859",
   "metadata": {},
   "outputs": [
    {
     "name": "stdout",
     "output_type": "stream",
     "text": [
      "F-value: 1.0\n",
      "p-value: 0.5\n"
     ]
    }
   ],
   "source": [
    "# Example usage\n",
    "data1 = [1, 2, 3, 4, 5]\n",
    "data2 = [6, 7, 8, 9, 10]\n",
    "\n",
    "f_value, p_value = variance_ratio_test(data1, data2)\n",
    "\n",
    "print(\"F-value:\", f_value)\n",
    "print(\"p-value:\", p_value)\n"
   ]
  },
  {
   "cell_type": "markdown",
   "id": "f4ffb39e-9329-4b4f-a330-70797abb46a0",
   "metadata": {},
   "source": [
    "Q2. Given a significance level of 0.05 and the degrees of freedom for the numerator and denominator of an\n",
    "F-distribution, write a Python function that returns the critical F-value for a two-tailed test."
   ]
  },
  {
   "cell_type": "code",
   "execution_count": 4,
   "id": "73e39776-dd42-42bf-96c5-b5a19d6a8ed3",
   "metadata": {},
   "outputs": [],
   "source": [
    "from scipy.stats import f\n",
    "\n",
    "def get_critical_f_value(alpha, dfn, dfd):\n",
    "    # Calculate the critical F-value\n",
    "    critical_f = f.ppf(1 - alpha/2, dfn, dfd)\n",
    "    \n",
    "    return critical_f\n"
   ]
  },
  {
   "cell_type": "code",
   "execution_count": 5,
   "id": "7efc9faf-f4ff-4e39-9ab2-f0ff91b0b2f1",
   "metadata": {},
   "outputs": [
    {
     "name": "stdout",
     "output_type": "stream",
     "text": [
      "Critical F-value: 3.8586986662732143\n"
     ]
    }
   ],
   "source": [
    "# Example usage\n",
    "alpha = 0.05\n",
    "dfn = 3\n",
    "dfd = 20\n",
    "\n",
    "critical_f = get_critical_f_value(alpha, dfn, dfd)\n",
    "\n",
    "print(\"Critical F-value:\", critical_f)\n"
   ]
  },
  {
   "cell_type": "markdown",
   "id": "7021e965-05b5-49db-af1f-8571a01b3377",
   "metadata": {},
   "source": [
    "Q3. Write a Python program that generates random samples from two normal distributions with known\n",
    "\n",
    "variances and uses an F-test to determine if the variances are equal. The program should output the F-\n",
    "value, degrees of freedom, and p-value for the test."
   ]
  },
  {
   "cell_type": "code",
   "execution_count": 7,
   "id": "b9a61d76-d7b8-468d-8a02-838580ca5548",
   "metadata": {},
   "outputs": [
    {
     "name": "stdout",
     "output_type": "stream",
     "text": [
      "F-value: 0.4030463392763856\n",
      "Degrees of freedom: (99, 99)\n",
      "p-value: 9.191624675736516e-06\n"
     ]
    }
   ],
   "source": [
    "import numpy as np\n",
    "from scipy.stats import f\n",
    "\n",
    "def f_test_equal_variances(sample1, sample2):\n",
    "    # Calculate the sample variances\n",
    "    var1 = np.var(sample1, ddof=1)\n",
    "    var2 = np.var(sample2, ddof=1)\n",
    "\n",
    "    # Calculate the F-value\n",
    "    f_value = var1 / var2\n",
    "\n",
    "    # Calculate the degrees of freedom\n",
    "    df1 = len(sample1) - 1\n",
    "    df2 = len(sample2) - 1\n",
    "\n",
    "    # Calculate the p-value\n",
    "    p_value = 2 * min(f.cdf(f_value, df1, df2), 1 - f.cdf(f_value, df1, df2))\n",
    "\n",
    "    return f_value, (df1, df2), p_value\n",
    "\n",
    "\n",
    "# Generate random samples from two normal distributions with known variances\n",
    "np.random.seed(42)\n",
    "sample1 = np.random.normal(loc=0, scale=1, size=100)\n",
    "sample2 = np.random.normal(loc=0, scale=1.5, size=100)\n",
    "\n",
    "# Perform F-test for equal variances\n",
    "f_value, degrees_of_freedom, p_value = f_test_equal_variances(sample1, sample2)\n",
    "\n",
    "print(\"F-value:\", f_value)\n",
    "print(\"Degrees of freedom:\", degrees_of_freedom)\n",
    "print(\"p-value:\", p_value)\n"
   ]
  },
  {
   "cell_type": "markdown",
   "id": "41c95926-31fe-4618-ba0a-52d30c761b57",
   "metadata": {},
   "source": [
    "Q4.The variances of two populations are known to be 10 and 15. A sample of 12 observations is taken from\n",
    "each population. Conduct an F-test at the 5% significance level to determine if the variances are\n",
    "significantly different."
   ]
  },
  {
   "cell_type": "code",
   "execution_count": null,
   "id": "c7590d4d-7f2a-4f38-919d-55f7536b0619",
   "metadata": {},
   "outputs": [],
   "source": [
    "from scipy.stats import f\n",
    "\n",
    "# Known variances\n",
    "variance1 = 10\n",
    "variance2 = 15\n",
    "\n",
    "# Sample sizes\n",
    "n1 = 12\n",
    "n2 = 12\n",
    "\n",
    "# Calculate the F-value\n",
    "f_value = variance1 / variance2\n",
    "\n",
    "# Degrees of freedom\n",
    "df1 = n1 - 1\n",
    "df2 = n2 - 1\n",
    "\n",
    "# Calculate the critical F-value at the 5% significance level\n",
    "alpha = 0.05\n",
    "critical_f = f.ppf(1 - alpha, df1, df2)\n",
    "\n",
    "# Compare the F-value with the critical F-value\n",
    "if f_value > critical_f:\n",
    "    print(\"Reject null hypothesis\")\n",
    "    print(\"Variances are significantly different.\")\n",
    "else:\n",
    "    print(\"Fail to reject null hypothesis\")\n",
    "    print(\"Variances are not significantly different.\")\n"
   ]
  },
  {
   "cell_type": "markdown",
   "id": "b7bedd74-c663-40ba-a67f-f54e726e7a7c",
   "metadata": {},
   "source": [
    "Q5. A manufacturer claims that the variance of the diameter of a certain product is 0.005. A sample of 25\n",
    "products is taken, and the sample variance is found to be 0.006. Conduct an F-test at the 1% significance\n",
    "level to determine if the claim is justified."
   ]
  },
  {
   "cell_type": "code",
   "execution_count": null,
   "id": "37828043-4de8-46d5-b3d0-6757c1dc8686",
   "metadata": {},
   "outputs": [],
   "source": [
    "from scipy.stats import f\n",
    "\n",
    "# Claimed variance\n",
    "claimed_variance = 0.005\n",
    "\n",
    "# Sample variance\n",
    "sample_variance = 0.006\n",
    "\n",
    "# Sample size\n",
    "n = 25\n",
    "\n",
    "# Degrees of freedom\n",
    "df1 = n - 1\n",
    "df2 = n - 1\n",
    "\n",
    "# Calculate the F-value\n",
    "f_value = sample_variance / claimed_variance\n",
    "\n",
    "# Calculate the critical F-value at the 1% significance level\n",
    "alpha = 0.01\n",
    "critical_f = f.ppf(1 - alpha, df1, df2)\n",
    "\n",
    "# Compare the F-value with the critical F-value\n",
    "if f_value > critical_f:\n",
    "    print(\"Reject null hypothesis\")\n",
    "    print(\"The claim is not justified.\")\n",
    "else:\n",
    "    print(\"Fail to reject null hypothesis\")\n",
    "    print(\"The claim is justified.\")\n"
   ]
  },
  {
   "cell_type": "markdown",
   "id": "42fb39e1-e88f-4cb1-98f1-01be1c0df4c5",
   "metadata": {},
   "source": [
    "Q6. Write a Python function that takes in the degrees of freedom for the numerator and denominator of an\n",
    "F-distribution and calculates the mean and variance of the distribution. The function should return the\n",
    "mean and variance as a tuple."
   ]
  },
  {
   "cell_type": "code",
   "execution_count": null,
   "id": "43837638-e548-48c3-9e72-d2c8086bf9cb",
   "metadata": {},
   "outputs": [],
   "source": [
    "def calculate_f_distribution_mean_and_variance(dfn, dfd):\n",
    "    # Calculate the mean of the F-distribution\n",
    "    mean = dfd / (dfd - 2)\n",
    "\n",
    "    # Calculate the variance of the F-distribution\n",
    "    variance = (2 * (dfd**2) * (dfn + dfd - 2)) / (dfn * (dfd - 2)**2 * (dfd - 4))\n",
    "\n",
    "    return mean, variance\n"
   ]
  },
  {
   "cell_type": "code",
   "execution_count": null,
   "id": "272aa60b-28a9-4372-995d-d0a00eee437b",
   "metadata": {},
   "outputs": [],
   "source": [
    "# Example usage\n",
    "dfn = 3\n",
    "dfd = 20\n",
    "\n",
    "mean, variance = calculate_f_distribution_mean_and_variance(dfn, dfd)\n",
    "\n",
    "print(\"Mean of F-distribution:\", mean)\n",
    "print(\"Variance of F-distribution:\", variance)\n"
   ]
  },
  {
   "cell_type": "markdown",
   "id": "ed5d8362-05cc-4a45-b2f3-3258bcad280c",
   "metadata": {},
   "source": [
    "Q7. A random sample of 10 measurements is taken from a normal population with unknown variance. The\n",
    "sample variance is found to be 25. Another random sample of 15 measurements is taken from another\n",
    "normal population with unknown variance, and the sample variance is found to be 20. Conduct an F-test\n",
    "at the 10% significance level to determine if the variances are significantly"
   ]
  },
  {
   "cell_type": "code",
   "execution_count": null,
   "id": "f8a42ff9-4c72-432b-b751-3ccb99964e98",
   "metadata": {},
   "outputs": [],
   "source": [
    "from scipy.stats import f\n",
    "\n",
    "# Sample variances\n",
    "sample_variance1 = 25\n",
    "sample_variance2 = 20\n",
    "\n",
    "# Sample sizes\n",
    "n1 = 10\n",
    "n2 = 15\n",
    "\n",
    "# Degrees of freedom\n",
    "df1 = n1 - 1\n",
    "df2 = n2 - 1\n",
    "\n",
    "# Calculate the F-value\n",
    "f_value = sample_variance1 / sample_variance2\n",
    "\n",
    "# Calculate the critical F-value at the 10% significance level\n",
    "alpha = 0.10\n",
    "critical_f = f.ppf(1 - alpha, df1, df2)\n",
    "\n",
    "# Compare the F-value with the critical F-value\n",
    "if f_value > critical_f:\n",
    "    print(\"Reject null hypothesis\")\n",
    "    print(\"Variances are significantly different.\")\n",
    "else:\n",
    "    print(\"Fail to reject null hypothesis\")\n",
    "    print(\"Variances are not significantly different.\")\n"
   ]
  },
  {
   "cell_type": "markdown",
   "id": "25f4b56b-c552-4835-9cf3-2805116f2898",
   "metadata": {},
   "source": [
    "Q8. The following data represent the waiting times in minutes at two different restaurants on a Saturday\n",
    "night: Restaurant A: 24, 25, 28, 23, 22, 20, 27; Restaurant B: 31, 33, 35, 30, 32, 36. Conduct an F-test at the 5%\n",
    "significance level to determine if the variances are significantly different."
   ]
  },
  {
   "cell_type": "code",
   "execution_count": null,
   "id": "eda2ec51-3699-4043-881c-f9a47aefe62f",
   "metadata": {},
   "outputs": [],
   "source": [
    "from scipy.stats import f\n",
    "\n",
    "# Waiting times at Restaurant A\n",
    "waiting_times_A = [24, 25, 28, 23, 22, 20, 27]\n",
    "\n",
    "# Waiting times at Restaurant B\n",
    "waiting_times_B = [31, 33, 35, 30, 32, 36]\n",
    "\n",
    "# Sample variances\n",
    "sample_variance_A = sum((x - np.mean(waiting_times_A))**2 for x in waiting_times_A) / (len(waiting_times_A) - 1)\n",
    "sample_variance_B = sum((x - np.mean(waiting_times_B))**2 for x in waiting_times_B) / (len(waiting_times_B) - 1)\n",
    "\n",
    "# Degrees of freedom\n",
    "df1 = len(waiting_times_A) - 1\n",
    "df2 = len(waiting_times_B) - 1\n",
    "\n",
    "# Calculate the F-value\n",
    "f_value = sample_variance_A / sample_variance_B\n",
    "\n",
    "# Calculate the critical F-value at the 5% significance level\n",
    "alpha = 0.05\n",
    "critical_f = f.ppf(1 - alpha, df1, df2)\n",
    "\n",
    "# Compare the F-value with the critical F-value\n",
    "if f_value > critical_f:\n",
    "    print(\"Reject null hypothesis\")\n",
    "    print(\"Variances are significantly different.\")\n",
    "else:\n",
    "    print(\"Fail to reject null hypothesis\")\n",
    "    print(\"Variances are not significantly different.\")\n"
   ]
  },
  {
   "cell_type": "markdown",
   "id": "8c1382cb-36a2-427b-82b7-2c7f4873df56",
   "metadata": {},
   "source": [
    "Q9. The following data represent the test scores of two groups of students: Group A: 80, 85, 90, 92, 87, 83;\n",
    "Group B: 75, 78, 82, 79, 81, 84. Conduct an F-test at the 1% significance level to determine if the variances\n",
    "are significantly different."
   ]
  },
  {
   "cell_type": "code",
   "execution_count": null,
   "id": "0eac4ab6-47ee-410e-8aab-ae3fb1fa6506",
   "metadata": {},
   "outputs": [],
   "source": [
    "from scipy.stats import f\n",
    "\n",
    "# Test scores for Group A\n",
    "group_A_scores = [80, 85, 90, 92, 87, 83]\n",
    "\n",
    "# Test scores for Group B\n",
    "group_B_scores = [75, 78, 82, 79, 81, 84]\n",
    "\n",
    "# Sample variances\n",
    "sample_variance_A = sum((x - np.mean(group_A_scores))**2 for x in group_A_scores) / (len(group_A_scores) - 1)\n",
    "sample_variance_B = sum((x - np.mean(group_B_scores))**2 for x in group_B_scores) / (len(group_B_scores) - 1)\n",
    "\n",
    "# Degrees of freedom\n",
    "df1 = len(group_A_scores) - 1\n",
    "df2 = len(group_B_scores) - 1\n",
    "\n",
    "# Calculate the F-value\n",
    "f_value = sample_variance_A / sample_variance_B\n",
    "\n",
    "# Calculate the critical F-value at the 1% significance level\n",
    "alpha = 0.01\n",
    "critical_f = f.ppf(1 - alpha, df1, df2)\n",
    "\n",
    "# Compare the F-value with the critical F-value\n",
    "if f_value > critical_f:\n",
    "    print(\"Reject null hypothesis\")\n",
    "    print(\"Variances are significantly different.\")\n",
    "else:\n",
    "    print(\"Fail to reject null hypothesis\")\n",
    "    print(\"Variances are not significantly different.\")\n"
   ]
  },
  {
   "cell_type": "code",
   "execution_count": null,
   "id": "fafa524b-8d86-4cf4-b1e5-f168efec33f4",
   "metadata": {},
   "outputs": [],
   "source": []
  }
 ],
 "metadata": {
  "kernelspec": {
   "display_name": "Python 3 (ipykernel)",
   "language": "python",
   "name": "python3"
  },
  "language_info": {
   "codemirror_mode": {
    "name": "ipython",
    "version": 3
   },
   "file_extension": ".py",
   "mimetype": "text/x-python",
   "name": "python",
   "nbconvert_exporter": "python",
   "pygments_lexer": "ipython3",
   "version": "3.10.8"
  }
 },
 "nbformat": 4,
 "nbformat_minor": 5
}
